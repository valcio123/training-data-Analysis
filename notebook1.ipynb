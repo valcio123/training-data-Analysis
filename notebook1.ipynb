{
 "cells": [
  {
   "cell_type": "code",
   "execution_count": 25,
   "metadata": {},
   "outputs": [],
   "source": [
    "import pandas as pd\n",
    "import pyodbc as bdados"
   ]
  },
  {
   "cell_type": "code",
   "execution_count": 26,
   "metadata": {},
   "outputs": [],
   "source": [
    "dados_conexão = (\n",
    "    \"Driver={SQL SERVER};\"\n",
    "    \"Server=VALCIO-P;\"\n",
    "    \"Database=PythonSQL;\"\n",
    ")"
   ]
  },
  {
   "cell_type": "code",
   "execution_count": 27,
   "metadata": {},
   "outputs": [
    {
     "name": "stdout",
     "output_type": "stream",
     "text": [
      "conexão sucedida\n"
     ]
    }
   ],
   "source": [
    "conexao= bdados.connect(dados_conexão)\n",
    "print(\"conexão sucedida\")"
   ]
  },
  {
   "cell_type": "code",
   "execution_count": 28,
   "metadata": {},
   "outputs": [],
   "source": [
    "cursor = conexao.cursor()"
   ]
  },
  {
   "cell_type": "code",
   "execution_count": 29,
   "metadata": {},
   "outputs": [],
   "source": [
    "cliente=\"\"\n",
    "produto=\"\"\n",
    "data_venda=\"\"\n",
    "preco=0\n",
    "qtd=0"
   ]
  },
  {
   "cell_type": "code",
   "execution_count": 30,
   "metadata": {},
   "outputs": [],
   "source": [
    "cliente=input(\"insira o Cliente\")\n",
    "produto=input(\"insira o produto vendido\")\n",
    "data_venda=input(\"insira a data da venda XX/XX/XXXX\")\n",
    "preco=input(\"insira o valor do produto (somente números)\")\n",
    "qtd=input(\"insira a quantidade \")"
   ]
  },
  {
   "cell_type": "code",
   "execution_count": 36,
   "metadata": {},
   "outputs": [],
   "source": [
    "comando_inserir = \"\"\"INSERT INTO vendas(id_venda,cliente,produto,data_venda,preço,qtd)\n",
    "VALUES\n",
    "('3','\"\"\"+cliente+\"\"\"','\"\"\"+produto+\"\"\"','\"\"\"+data_venda+\"\"\"',\"\"\"+preco+\"\"\",\"\"\"+qtd+\"\"\")\"\"\""
   ]
  },
  {
   "cell_type": "code",
   "execution_count": 37,
   "metadata": {},
   "outputs": [
    {
     "name": "stdout",
     "output_type": "stream",
     "text": [
      "INSERT INTO vendas(id_venda,cliente,produto,data_venda,preço,qtd)\n",
      "VALUES\n",
      "('3','mailaum','pcgamer','29/11/2022',5000,1)\n"
     ]
    }
   ],
   "source": [
    "print(comando_inserir)"
   ]
  },
  {
   "cell_type": "code",
   "execution_count": 38,
   "metadata": {},
   "outputs": [],
   "source": [
    "cursor.execute(comando_inserir)\n",
    "cursor.commit()"
   ]
  }
 ],
 "metadata": {
  "kernelspec": {
   "display_name": "Python 3.10.8 64-bit (microsoft store)",
   "language": "python",
   "name": "python3"
  },
  "language_info": {
   "codemirror_mode": {
    "name": "ipython",
    "version": 3
   },
   "file_extension": ".py",
   "mimetype": "text/x-python",
   "name": "python",
   "nbconvert_exporter": "python",
   "pygments_lexer": "ipython3",
   "version": "3.10.8"
  },
  "orig_nbformat": 4,
  "vscode": {
   "interpreter": {
    "hash": "d234dc3314f8237cf5d18265e55ecb153c06b417d397db7580eb2b7bbc25b33c"
   }
  }
 },
 "nbformat": 4,
 "nbformat_minor": 2
}
